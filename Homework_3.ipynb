{
 "cells": [
  {
   "cell_type": "markdown",
   "source": [
    "<h3>Task 1</h3>\n",
    "\n",
    "1. С помощью запроса выберите фильмы ранее 2018 года"
   ],
   "metadata": {
    "collapsed": false
   }
  },
  {
   "cell_type": "code",
   "execution_count": 2,
   "outputs": [
    {
     "name": "stderr",
     "output_type": "stream",
     "text": [
      "IOPub data rate exceeded.\n",
      "The notebook server will temporarily stop sending output\n",
      "to the client in order to avoid crashing it.\n",
      "To change this limit, set the config variable\n",
      "`--NotebookApp.iopub_data_rate_limit`.\n",
      "\n",
      "Current values:\n",
      "NotebookApp.iopub_data_rate_limit=1000000.0 (bytes/sec)\n",
      "NotebookApp.rate_limit_window=3.0 (secs)\n",
      "\n"
     ]
    }
   ],
   "source": [
    "import sqlite3\n",
    "\n",
    "\n",
    "con = sqlite3.connect('imdb_small_indexed.db')  # подключение\n",
    "cur = con.cursor()  # курсор\n",
    "first_point = \"\"\"\n",
    "SELECT *\n",
    "FROM titles\n",
    "WHERE premiered < 2018\n",
    "\"\"\"\n",
    "cur.execute(first_point)\n",
    "while True:\n",
    "    result = cur.fetchmany(2)\n",
    "    if len(result) > 0:\n",
    "        print(result)\n",
    "    else:\n",
    "        break"
   ],
   "metadata": {
    "collapsed": false
   }
  },
  {
   "cell_type": "markdown",
   "source": [
    "2. 50 самых популярных фильмов (по кол-ву оценок)"
   ],
   "metadata": {
    "collapsed": false
   }
  },
  {
   "cell_type": "code",
   "execution_count": 15,
   "outputs": [
    {
     "name": "stdout",
     "output_type": "stream",
     "text": [
      "[(160316, 10.0, 5), (212915, 10.0, 5)]\n",
      "[(225177, 10.0, 5), (10276912, 10.0, 6)]\n",
      "[(10292952, 10.0, 5), (10447680, 10.0, 5)]\n",
      "[(10608660, 10.0, 8), (10719080, 10.0, 5)]\n",
      "[(11007042, 10.0, 5), (11009288, 10.0, 9)]\n",
      "[(11067956, 10.0, 5), (11084380, 10.0, 8)]\n",
      "[(11157146, 10.0, 5), (11460966, 10.0, 8)]\n",
      "[(11464266, 10.0, 5), (11469940, 10.0, 6)]\n",
      "[(11651564, 10.0, 6), (11683942, 10.0, 5)]\n",
      "[(11692176, 10.0, 5), (11804094, 10.0, 9)]\n",
      "[(11808666, 10.0, 5), (11809482, 10.0, 7)]\n",
      "[(11905308, 10.0, 5), (11930236, 10.0, 9)]\n",
      "[(11938258, 10.0, 8), (11952822, 10.0, 15)]\n",
      "[(11972952, 10.0, 6), (12133822, 10.0, 5)]\n",
      "[(12133824, 10.0, 5), (12337762, 10.0, 5)]\n",
      "[(12372270, 10.0, 108), (12385356, 10.0, 27)]\n",
      "[(12402868, 10.0, 5), (12406160, 10.0, 839)]\n",
      "[(12593524, 10.0, 7), (12615706, 10.0, 5)]\n",
      "[(12661310, 10.0, 224), (12683912, 10.0, 20)]\n",
      "[(12686352, 10.0, 6), (12696750, 10.0, 6)]\n",
      "[(12699564, 10.0, 5), (12728950, 10.0, 714)]\n",
      "[(12750500, 10.0, 6), (12757372, 10.0, 650)]\n",
      "[(12773752, 10.0, 10), (12844464, 10.0, 10)]\n",
      "[(12906326, 10.0, 5), (12922362, 10.0, 5)]\n",
      "[(12937928, 10.0, 6), (12949564, 10.0, 9)]\n"
     ]
    }
   ],
   "source": [
    "second_point = \"\"\"\n",
    "SELECT *\n",
    "FROM rating\n",
    "ORDER BY votes DESC\n",
    "LIMIT 50\n",
    "\"\"\"\n",
    "cur.execute(second_point)\n",
    "while True:\n",
    "    result = cur.fetchmany(2)\n",
    "    if len(result) > 0:\n",
    "        print(result)\n",
    "    else:\n",
    "        break"
   ],
   "metadata": {
    "collapsed": false
   }
  },
  {
   "cell_type": "markdown",
   "source": [
    "3. 10 самых популярных (по кол-ву оценок и с рейтингом >= 7) комедий 2019 года"
   ],
   "metadata": {
    "collapsed": false
   }
  },
  {
   "cell_type": "code",
   "execution_count": 14,
   "outputs": [
    {
     "name": "stdout",
     "output_type": "stream",
     "text": [
      "[(88763, 8.5, 1036582, 88763, 6, 6, 'Comedy'), (2015381, 8.0, 1029048, 2015381, 6, 6, 'Comedy')]\n",
      "[(266543, 8.1, 934018, 266543, 6, 6, 'Comedy'), (120382, 8.1, 918987, 120382, 6, 6, 'Comedy')]\n",
      "[(1049413, 8.2, 918121, 1049413, 6, 6, 'Comedy'), (1431045, 8.0, 887702, 1431045, 6, 6, 'Comedy')]\n",
      "[(114709, 8.3, 870897, 114709, 6, 6, 'Comedy'), (198781, 8.0, 800678, 198781, 6, 6, 'Comedy')]\n",
      "[(108778, 8.9, 794054, 108778, 6, 6, 'Comedy'), (208092, 8.3, 771018, 208092, 6, 6, 'Comedy')]\n"
     ]
    }
   ],
   "source": [
    "third_point = \"\"\"\n",
    "SELECT *\n",
    "FROM titles\n",
    "    JOIN film_genres ON titles.title_id = film_genres.title_id\n",
    "\tJOIN rating ON titles.title_id = rating.title_id\n",
    "\tJOIN genre_types ON genre_name = \"Comedy\"\n",
    "WHERE rating >= 7 AND premiered = 2019\n",
    "ORDER BY votes DESC\n",
    "LIMIT 10\n",
    "\"\"\"\n",
    "cur.execute(third_point)\n",
    "while True:\n",
    "    result = cur.fetchmany(2)\n",
    "    if len(result) > 0:\n",
    "        print(result)\n",
    "    else:\n",
    "        break"
   ],
   "metadata": {
    "collapsed": false
   }
  },
  {
   "cell_type": "markdown",
   "source": [
    "4. С помощью запроса выберите год выхода и название фильмов с кем-то из ваших любимых актеров"
   ],
   "metadata": {
    "collapsed": false
   }
  },
  {
   "cell_type": "code",
   "execution_count": 17,
   "outputs": [
    {
     "name": "stdout",
     "output_type": "stream",
     "text": [
      "[(5960374, 1, 'Vox Lux', 0, 2018, None, 114, 5960374, 204, 2, 204, 'Natalie Portman', 1981, None)]\n"
     ]
    }
   ],
   "source": [
    "fourth_point = \"\"\"\n",
    "SELECT *\n",
    "FROM titles\n",
    "\tJOIN crew ON titles.title_id = crew.title_id\n",
    "\tJOIN people ON crew.person_id = people.person_id\n",
    "WHERE name = 'Natalie Portman' AND title = 'Vox Lux' AND premiered = '2018'\n",
    "\"\"\"\n",
    "cur.execute(fourth_point)\n",
    "while True:\n",
    "    result = cur.fetchmany(2)\n",
    "    if len(result) > 0:\n",
    "        print(result)\n",
    "    else:\n",
    "        break"
   ],
   "metadata": {
    "collapsed": false
   }
  },
  {
   "cell_type": "markdown",
   "source": [
    "5.Выберите жанр и посчитайте кол-во фильмов по годам"
   ],
   "metadata": {
    "collapsed": false
   }
  },
  {
   "cell_type": "code",
   "execution_count": 3,
   "outputs": [
    {
     "name": "stdout",
     "output_type": "stream",
     "text": [
      "[(None, 0), (1900, 3)]\n",
      "[(1906, 1), (1907, 1)]\n",
      "[(1909, 5), (1910, 4)]\n",
      "[(1911, 7), (1912, 12)]\n",
      "[(1913, 28), (1914, 67)]\n",
      "[(1915, 128), (1916, 179)]\n",
      "[(1917, 220), (1918, 302)]\n",
      "[(1919, 331), (1920, 248)]\n",
      "[(1921, 237), (1922, 206)]\n",
      "[(1923, 182), (1924, 155)]\n",
      "[(1925, 216), (1926, 264)]\n",
      "[(1927, 281), (1928, 247)]\n",
      "[(1929, 194), (1930, 297)]\n",
      "[(1931, 344), (1932, 375)]\n",
      "[(1933, 405), (1934, 430)]\n",
      "[(1935, 454), (1936, 516)]\n",
      "[(1937, 514), (1938, 488)]\n",
      "[(1939, 435), (1940, 446)]\n",
      "[(1941, 470), (1942, 420)]\n",
      "[(1943, 372), (1944, 300)]\n",
      "[(1945, 268), (1946, 290)]\n",
      "[(1947, 300), (1948, 329)]\n",
      "[(1949, 397), (1950, 443)]\n",
      "[(1951, 455), (1952, 517)]\n",
      "[(1953, 513), (1954, 468)]\n",
      "[(1955, 511), (1956, 549)]\n",
      "[(1957, 595), (1958, 620)]\n",
      "[(1959, 641), (1960, 645)]\n",
      "[(1961, 647), (1962, 662)]\n",
      "[(1963, 698), (1964, 748)]\n",
      "[(1965, 694), (1966, 706)]\n",
      "[(1967, 713), (1968, 751)]\n",
      "[(1969, 790), (1970, 875)]\n",
      "[(1971, 854), (1972, 892)]\n",
      "[(1973, 818), (1974, 839)]\n",
      "[(1975, 954), (1976, 898)]\n",
      "[(1977, 782), (1978, 786)]\n",
      "[(1979, 880), (1980, 909)]\n",
      "[(1981, 876), (1982, 926)]\n",
      "[(1983, 902), (1984, 987)]\n",
      "[(1985, 950), (1986, 979)]\n",
      "[(1987, 1025), (1988, 1011)]\n",
      "[(1989, 1101), (1990, 1138)]\n",
      "[(1991, 1122), (1992, 1125)]\n",
      "[(1993, 1074), (1994, 1154)]\n",
      "[(1995, 1147), (1996, 1219)]\n",
      "[(1997, 1384), (1998, 1445)]\n",
      "[(1999, 1512), (2000, 1517)]\n",
      "[(2001, 1622), (2002, 1709)]\n",
      "[(2003, 1979), (2004, 2012)]\n",
      "[(2005, 2281), (2006, 2528)]\n",
      "[(2007, 2582), (2008, 2917)]\n",
      "[(2009, 3444), (2010, 3775)]\n",
      "[(2011, 4423), (2012, 5129)]\n",
      "[(2013, 5579), (2014, 5912)]\n",
      "[(2015, 6324), (2016, 6497)]\n",
      "[(2017, 6323), (2018, 5978)]\n",
      "[(2019, 5318), (2020, 4338)]\n",
      "[(2021, 687), (2022, 68)]\n",
      "[(2023, 8), (2024, 3)]\n"
     ]
    }
   ],
   "source": [
    "fifth_point = \"\"\"\n",
    "SELECT titles.premiered, count(titles.premiered)\n",
    "FROM titles\n",
    "    JOIN film_genres ON titles.title_id = film_genres.title_id\n",
    "    JOIN genre_types ON film_genres.genre_id = genre_types.id\n",
    "WHERE genre_name = \"Comedy\"\n",
    "GROUP BY premiered\n",
    "\"\"\"\n",
    "cur.execute(fifth_point)\n",
    "while True:\n",
    "    result = cur.fetchmany(2)\n",
    "    if len(result) > 0:\n",
    "        print(result)\n",
    "    else:\n",
    "        break"
   ],
   "metadata": {
    "collapsed": false
   }
  },
  {
   "cell_type": "markdown",
   "source": [
    "6. Найдите актеров-долгожителей\n",
    "- топ-10 по возрасту\n",
    "- список тех, кто дожил до 100 лет и более"
   ],
   "metadata": {
    "collapsed": false
   }
  },
  {
   "cell_type": "code",
   "execution_count": 7,
   "outputs": [
    {
     "name": "stdout",
     "output_type": "stream",
     "text": [
      "[(122,), (118,)]\n",
      "[(116,), (116,)]\n",
      "[(113,), (112,)]\n",
      "[(112,), (112,)]\n",
      "[(112,), (112,)]\n"
     ]
    }
   ],
   "source": [
    "six1_point = \"\"\"\n",
    "SELECT DISTINCT people.name, CAST(people.died AS INTEGER) - CAST(people.born AS INTEGER) AS diff\n",
    "FROM titles\n",
    "\tJOIN crew ON titles.title_id = crew.title_id\n",
    "\tJOIN people ON crew.person_id = people.person_id\n",
    "ORDER BY diff DESC\n",
    "LIMIT 10\n",
    "\"\"\"\n",
    "cur.execute(six1_point)\n",
    "while True:\n",
    "    result = cur.fetchmany(2)\n",
    "    if len(result) > 0:\n",
    "        print(result)\n",
    "    else:\n",
    "        break"
   ],
   "metadata": {
    "collapsed": false
   }
  },
  {
   "cell_type": "code",
   "execution_count": 6,
   "outputs": [
    {
     "name": "stdout",
     "output_type": "stream",
     "text": [
      "[(101,), (101,)]\n",
      "[(100,), (103,)]\n",
      "[(100,), (101,)]\n",
      "[(101,), (101,)]\n",
      "[(101,), (101,)]\n",
      "[(105,), (100,)]\n",
      "[(101,), (102,)]\n",
      "[(103,), (102,)]\n",
      "[(100,), (100,)]\n",
      "[(101,), (105,)]\n",
      "[(100,), (102,)]\n",
      "[(101,), (105,)]\n",
      "[(101,), (102,)]\n",
      "[(102,), (101,)]\n",
      "[(103,), (100,)]\n",
      "[(101,), (100,)]\n",
      "[(100,), (101,)]\n",
      "[(102,), (100,)]\n",
      "[(100,), (100,)]\n",
      "[(101,), (102,)]\n"
     ]
    }
   ],
   "source": [
    "six2_point = \"\"\"\n",
    "SELECT people.name, CAST(people.died AS INTEGER) - CAST(people.born AS INTEGER) AS diff\n",
    "FROM titles\n",
    "\tJOIN crew ON titles.title_id = crew.title_id\n",
    "\tJOIN people ON crew.person_id = people.person_id\n",
    "WHERE diff >= 100\n",
    "\"\"\"\n",
    "cur.execute(six2_point)\n",
    "while True:\n",
    "    result = cur.fetchmany(2)\n",
    "    if len(result) > 0:\n",
    "        print(result)\n",
    "    else:\n",
    "        break"
   ],
   "metadata": {
    "collapsed": false
   }
  },
  {
   "cell_type": "markdown",
   "source": [
    "Посчитайте распределение оценок (округленных до ближайшего целого) для комедий и для документальных фильмов, постройте график для сравнения"
   ],
   "metadata": {
    "collapsed": false
   }
  },
  {
   "cell_type": "code",
   "execution_count": 38,
   "outputs": [
    {
     "data": {
      "text/plain": "<Figure size 640x480 with 1 Axes>",
      "image/png": "[encoded data removed]"
     },
     "metadata": {},
     "output_type": "display_data"
    }
   ],
   "source": [
    "import pandas as pd\n",
    "import matplotlib.pyplot as plt\n",
    "import sqlite3\n",
    "con = sqlite3.connect('imdb_small_indexed.db')  # подключение\n",
    "rating = \"\"\"\n",
    "SELECT *\n",
    "FROM titles\n",
    "    JOIN film_genres ON titles.title_id = film_genres.title_id\n",
    "    JOIN genre_types ON film_genres.genre_id = genre_types.id\n",
    "\tJOIN rating ON titles.title_id = rating.title_id\n",
    "\"\"\"\n",
    "df7 = pd.read_sql_query(rating, con)\n",
    "plt.hist(df7[df7['genre_name'].str.contains('Comedy')]['rating'], color='red')\n",
    "plt.hist(df7[df7['genre_name'].str.contains('Documentary')]['rating'], color='green')\n",
    "plt.legend(['Comedy', 'Documentary'])\n",
    "plt.show()"
   ],
   "metadata": {
    "collapsed": false
   }
  },
  {
   "cell_type": "markdown",
   "source": [
    "Сохраните результат пункта 6 в базе в новой таблице"
   ],
   "metadata": {
    "collapsed": false
   }
  },
  {
   "cell_type": "markdown",
   "source": [
    "\"вот первый пункт где топ10 долгожителей:\"\n",
    "CREATE TABLE tosy as\n",
    "SELECT people.name, CAST(people.died AS INTEGER) - CAST(people.born AS INTEGER) AS diff\n",
    "FROM titles\n",
    "\tJOIN crew ON titles.title_id = crew.title_id\n",
    "\tJOIN people ON crew.person_id = people.person_id\n",
    "ORDER BY diff DESC"
   ],
   "metadata": {
    "collapsed": false
   }
  },
  {
   "cell_type": "markdown",
   "source": [
    "\"вот второй пункт:\"\n",
    "CREATE TABLE suzy as\n",
    "SELECT people.name, CAST(people.died AS INTEGER) - CAST(people.born AS INTEGER) AS diff\n",
    "FROM titles\n",
    "\tJOIN crew ON titles.title_id = crew.title_id\n",
    "\tJOIN people ON crew.person_id = people.person_id\n",
    "WHERE diff >= 100"
   ],
   "metadata": {
    "collapsed": false
   }
  },
  {
   "cell_type": "markdown",
   "source": [
    "Cтарайтесь максимально решить задачу в запросе, а не внешними инструментами\n",
    "\n",
    "Посмотрите, какое среднее распредление долей мужчин и женщин в фильмах разных лет по жанрам\n",
    "\n",
    "1.посчитайте долю женщин среди участников фильмов жанра определенного года\n",
    "2.сделайте pivot_table по жанрам и годам\n",
    "3.изучите, какие есть закономерности и опишите их\n",
    "4.проиллюстрируйте с помощью графика 2-3 наиболее примечательных жанра\n",
    "5.можно ли сделать какие-то выводы об изменениях в индустрии?"
   ],
   "metadata": {
    "collapsed": false
   }
  },
  {
   "cell_type": "markdown",
   "source": [
    "Посчитайте долю женщин среди участников фильмов жанра определенного года:\n",
    "SELECT\n",
    "\tpremiered,\n",
    "\t(sum(CASE WHEN category=2 THEN 1 ELSE 0 END))*100/(sum(CASE WHEN (category=2 or category=1) THEN 1 ELSE 0 END)) as actress\n",
    "FROM titles\n",
    "\tJOIN crew ON titles.title_id = crew.title_id\n",
    "\tJOIN film_genres ON titles.title_id = film_genres.title_id\n",
    "\tJOIN genre_types ON film_genres.genre_id = genre_types.id\n",
    "WHERE genre_types.genre_name = \"Drama\" and premiered = 1913\n"
   ],
   "metadata": {
    "collapsed": false
   }
  },
  {
   "cell_type": "markdown",
   "source": [
    "Сделайте pivot_table по жанрам и годам"
   ],
   "metadata": {
    "collapsed": false
   }
  },
  {
   "cell_type": "code",
   "execution_count": 31,
   "outputs": [
    {
     "name": "stdout",
     "output_type": "stream",
     "text": [
      "     genre_name  premiered  women\n",
      "0        Action        NaN   28.0\n",
      "1         Adult        NaN   27.0\n",
      "2     Adventure        NaN   31.0\n",
      "3     Animation        NaN   34.0\n",
      "4     Biography        NaN   33.0\n",
      "...         ...        ...    ...\n",
      "2948      Drama     2027.0    0.0\n",
      "2949    Fantasy     2027.0    0.0\n",
      "2950     Action     2028.0   44.0\n",
      "2951  Adventure     2028.0   44.0\n",
      "2952      Drama     2028.0   44.0\n",
      "\n",
      "[2953 rows x 3 columns]\n"
     ]
    }
   ],
   "source": [
    "import sqlite3\n",
    "import pandas as pd\n",
    "\n",
    "con = sqlite3.connect('imdb_small_indexed.db')\n",
    "sql3 = \"\"\"\n",
    "SELECT\n",
    "\tgenre_name, premiered,\n",
    "\t(sum(CASE WHEN category=2 THEN 1 ELSE 0 END))*100/(sum(CASE WHEN (category=2 or category=1) THEN 1 ELSE 0 END)) as women\n",
    "FROM titles\n",
    "    JOIN crew ON titles.title_id = crew.title_id\n",
    "\tJOIN film_genres ON titles.title_id = film_genres.title_id\n",
    "\tJOIN genre_types ON film_genres.genre_id = genre_types.id\n",
    "GROUP BY premiered, genre_name\n",
    "\"\"\"\n",
    "df3 = pd.read_sql_query(sql3,con)\n",
    "print(df3)"
   ],
   "metadata": {
    "collapsed": false
   }
  },
  {
   "cell_type": "code",
   "execution_count": 33,
   "outputs": [
    {
     "name": "stdout",
     "output_type": "stream",
     "text": [
      "                      women\n",
      "premiered genre_name       \n",
      "1894.0    Romance      33.0\n",
      "1900.0    Biography    16.0\n",
      "          Drama        16.0\n",
      "1902.0    Drama       100.0\n",
      "1903.0    Biography    50.0\n",
      "...                     ...\n",
      "2027.0    Drama         0.0\n",
      "          Fantasy       0.0\n",
      "2028.0    Action       44.0\n",
      "          Adventure    44.0\n",
      "          Drama        44.0\n",
      "\n",
      "[2835 rows x 1 columns]\n"
     ]
    }
   ],
   "source": [
    "ps = pd.pivot_table(df3, index=[\"premiered\", \"genre_name\"])\n",
    "print(ps)"
   ],
   "metadata": {
    "collapsed": false
   }
  },
  {
   "cell_type": "markdown",
   "source": [
    "Можно сказать, что в конце 19 века и начала 20 века было популярно приглашать женщин для съемок в фильмов в жанре Драма, Романтика, Комедия и Мьюзикал. Но мало, кто из них в то время участвовал в военных фильмах, автобиографичных, ужастиках. Во второй половине 20 века популярны были жанры Ток-шоу, Анимация, Film-Noir. В начале 21 века женщины актрисы снимались больше во взрослых фильмах, короткометражные фильмы, мьюзикал и семейные. Потом доля была около 50 в жанрах Приключения, Документальные фильмы и комедии."
   ],
   "metadata": {
    "collapsed": false
   }
  },
  {
   "cell_type": "code",
   "execution_count": 36,
   "outputs": [
    {
     "data": {
      "text/plain": "<Figure size 640x480 with 1 Axes>",
      "image/png": "[encoded data removed]"
     },
     "metadata": {},
     "output_type": "display_data"
    }
   ],
   "source": [
    "import sqlite3\n",
    "import pandas as pd\n",
    "import matplotlib.pyplot as plt\n",
    "\n",
    "con = sqlite3.connect('imdb_small_indexed.db')\n",
    "genres = \"\"\"\n",
    "SELECT\n",
    "\tgenre_name, premiered,\n",
    "\t(sum(CASE WHEN category=2 THEN 1 ELSE 0 END))*100/(sum(CASE WHEN (category=2 or category=1) THEN 1 ELSE 0 END)) as women\n",
    "FROM titles\n",
    "    JOIN crew ON titles.title_id = crew.title_id\n",
    "\tJOIN film_genres ON titles.title_id = film_genres.title_id\n",
    "\tJOIN genre_types ON film_genres.genre_id = genre_types.id\n",
    "GROUP BY premiered, genre_name\n",
    "\"\"\"\n",
    "df_genres = pd.read_sql_query(genres, con)\n",
    "drama = df_genres[df_genres['genre_name'].str.contains('Drama')]\n",
    "x1 = drama['premiered'].tolist()\n",
    "y1 = drama['women'].tolist()\n",
    "romance = df_genres[df_genres['genre_name'].str.contains('Romance')]\n",
    "x2 = romance['premiered'].tolist()\n",
    "y2 = romance['women'].tolist()\n",
    "\n",
    "fig, ax = plt.subplots()\n",
    "ax.plot(x1, y1, label = 'Drama')\n",
    "ax.plot(x2, y2, label = 'Romance')\n",
    "ax.legend()\n",
    "plt.show()"
   ],
   "metadata": {
    "collapsed": false
   }
  },
  {
   "cell_type": "markdown",
   "source": [
    "Как видно на графике, доля женщин в 1900 была высокая для жанра Драма, а средняя доля для жанра Романтика. Значит, женщин в то время было много в фильмах и сериалах жанра Драма. Далее этот тренд значительно уменьшился, как и тренд в жанре Романтика. До 2020-ых годов тренды были почти на одинаковой величине, каждый либо падал на немного, а потом поднимался. В 2020 году был пик съемок актрис в Драмах, как и для жанра Романтики. После 2020 жанра Драма опять тренд уменьшился и опять повысился. Для жанра Романтика тренд повышался после 2020 года. Значит, в индустрии уведличилось внимание к актрисам, их было больше, чем других участников."
   ],
   "metadata": {
    "collapsed": false
   }
  },
  {
   "cell_type": "markdown",
   "source": [
    "Задание на 10 баллов\n",
    "\n",
    "Представьте, что мы создаем сайт про кино и хотим хранить данные пользователей и их оценки.\n",
    "\n",
    "1. С какими объектами мы работаем? Какие таблицы нужно добавить в базу? Какие параметры нужно хранить?\n",
    "2. Как эти таблицы связаны между собой и с таблицами, уже имеющимися в базе?\n",
    "3. Нарисуйте схему и прокомментируйте (схему можно положить картинкой в репозиторий или вставить в тетрадку).\n",
    "4. Какие данные нужно будет часто доставать или соединять? Какие индексы в базе хорошо было бы создать, чтобы пользователю было комфортно и быстро получать статистику или какую-то иную информацию. (Представьте, например, свои действия при работе с КиноПоиском или IMDB).\n",
    "5. Каких данных (с сайта или просто придумать свои) не хватает в базе?"
   ],
   "metadata": {
    "collapsed": false
   }
  },
  {
   "cell_type": "markdown",
   "source": [
    "Если мы хотим хранить  данные пользователей, то нужно создать таблицу “Users”,где будет указано айди пользователя, имя пользователя(произвольное, какое сам захочет пользователь), юзернейм пользователя(это юз, который начинается с @), эмейл, пароль, когда был создан пароль, когда был обновлен пароль.\n",
    "\n",
    "Можно добавить таблицу, где будет указано, какие студии работали при создании фильма. Например, производство, спецэффекты, студии дубляжа. Можно добавить таблицу “Награды”, где будет указано,  какие награды получил фильм или сериал(например, оскар, эмми, золотой глобус, премия от MTV, Сатурн). Можно добавить таблицу “Связи”, где будет указано в каких других программах упоминается, где есть отсылки, где спародирован. Также очень важна будет таблица “Саундтреков”, где будет указано какие музыкальные треки использовались. Там будет указан автор песни, год выпуска, продолжительность песни, к какому жанру относится песня. Можно добавить таблицу “Сайты”, где будет список социальных сетей сериала или фильмы. Например, есть сериал “Очень странные дела” и у него в этой таблице будет ссылка на инстаграм, твиттер, фейсбук и т.д.\n",
    "\n",
    "В таблице \"Users\" можно создать индекс user_id, по которому можно будет присоединить таблицу \"rating\". В других таблицах можно создать индекс \"title_id\", все они будут соединяться с таблицей \"titles\"."
   ],
   "metadata": {
    "collapsed": false
   }
  },
  {
   "cell_type": "markdown",
   "source": [
    "В репозитории я прикрепила свою схему, но из изначальной бд я оставила только таблицы titles и rating, чтобы мои новые другие таблицы поместились."
   ],
   "metadata": {
    "collapsed": false
   }
  },
  {
   "cell_type": "code",
   "execution_count": null,
   "outputs": [],
   "source": [],
   "metadata": {
    "collapsed": false
   }
  }
 ],
 "metadata": {
  "kernelspec": {
   "display_name": "Python 3",
   "language": "python",
   "name": "python3"
  },
  "language_info": {
   "codemirror_mode": {
    "name": "ipython",
    "version": 2
   },
   "file_extension": ".py",
   "mimetype": "text/x-python",
   "name": "python",
   "nbconvert_exporter": "python",
   "pygments_lexer": "ipython2",
   "version": "2.7.6"
  }
 },
 "nbformat": 4,
 "nbformat_minor": 0
}
